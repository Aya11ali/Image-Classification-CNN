{
  "nbformat": 4,
  "nbformat_minor": 0,
  "metadata": {
    "colab": {
      "provenance": [],
      "gpuType": "T4",
      "authorship_tag": "ABX9TyOFGKHKXyvkoulxVUGHk0Ro"
    },
    "kernelspec": {
      "name": "python3",
      "display_name": "Python 3"
    },
    "language_info": {
      "name": "python"
    },
    "accelerator": "GPU"
  },
  "cells": [
    {
      "cell_type": "code",
      "execution_count": 1,
      "metadata": {
        "id": "mNb_51WBad5p"
      },
      "outputs": [],
      "source": [
        "import numpy as np\n",
        "from PIL import Image\n",
        "\n",
        "import torch\n",
        "import torch.nn as nn\n",
        "import torch.nn.functional as F\n",
        "import torch.optim as optim\n",
        "\n",
        "import torchvision\n",
        "import torchvision.transforms as transforms"
      ]
    },
    {
      "cell_type": "code",
      "source": [
        "transform = transforms.Compose([\n",
        "    transforms.ToTensor(),\n",
        "    transforms.Normalize((0.5,0.5,0.5), (0.5, 0.5, 0.5))\n",
        "])"
      ],
      "metadata": {
        "id": "YOOehrpobOC9"
      },
      "execution_count": 2,
      "outputs": []
    },
    {
      "cell_type": "code",
      "source": [
        "train_data = torchvision.datasets.CIFAR10(root='./data', train=True, download=True, transform=transform)\n",
        "test_data = torchvision.datasets.CIFAR10(root='./data', train=False, download=True, transform=transform)"
      ],
      "metadata": {
        "colab": {
          "base_uri": "https://localhost:8080/"
        },
        "id": "rBaORIRPbumf",
        "outputId": "8e5aa2d9-7cf5-4fb2-f86a-b18deec91c22"
      },
      "execution_count": 3,
      "outputs": [
        {
          "output_type": "stream",
          "name": "stderr",
          "text": [
            "100%|██████████| 170M/170M [00:03<00:00, 42.7MB/s]\n"
          ]
        }
      ]
    },
    {
      "cell_type": "code",
      "source": [
        "train_loader = torch.utils.data.DataLoader(train_data, batch_size= 32, shuffle= True , num_workers = 2)\n",
        "test_loader = torch.utils.data.DataLoader(test_data, batch_size= 32, shuffle= True , num_workers = 2)"
      ],
      "metadata": {
        "id": "BFhclIcQb4xa"
      },
      "execution_count": 4,
      "outputs": []
    },
    {
      "cell_type": "code",
      "source": [
        "image, label = train_data[0]"
      ],
      "metadata": {
        "id": "sFmgDlbxdHCI"
      },
      "execution_count": 5,
      "outputs": []
    },
    {
      "cell_type": "code",
      "source": [
        "image.size()"
      ],
      "metadata": {
        "colab": {
          "base_uri": "https://localhost:8080/"
        },
        "id": "yb4EUMaodM-p",
        "outputId": "f9dd1f19-ad66-452e-809c-f7f2c75650ad"
      },
      "execution_count": 6,
      "outputs": [
        {
          "output_type": "execute_result",
          "data": {
            "text/plain": [
              "torch.Size([3, 32, 32])"
            ]
          },
          "metadata": {},
          "execution_count": 6
        }
      ]
    },
    {
      "cell_type": "code",
      "source": [
        "class_names = ['plane', 'car', 'bird', 'cat', 'deer', 'dog', 'frog', 'horse', 'ship', 'truck']"
      ],
      "metadata": {
        "id": "CQqtAquWdPHE"
      },
      "execution_count": 7,
      "outputs": []
    },
    {
      "cell_type": "code",
      "source": [
        "class NeuralNet(nn.Module):\n",
        "  def __init__(self):\n",
        "    super().__init__()\n",
        "\n",
        "    self.conv1 = nn.Conv2d(3, 12, 5)\n",
        "    self.pool = nn.MaxPool2d(2,2)\n",
        "    self.conv2 = nn.Conv2d(12, 24, 5)\n",
        "    self.fc1 = nn.Linear(24*5*5, 120)\n",
        "    self.fc2 = nn.Linear(120, 84)\n",
        "    self.fc3 = nn.Linear(84, 10)\n",
        "\n",
        "  def forward(self, x):\n",
        "    x = self.pool(F.relu(self.conv1(x)))\n",
        "    x = self.pool(F.relu(self.conv2(x)))\n",
        "    x = torch.flatten(x,1)\n",
        "    x = F.relu(self.fc1(x))\n",
        "    x = F.relu(self.fc2(x))\n",
        "    x = self.fc3(x)\n",
        "    return x\n",
        "\n"
      ],
      "metadata": {
        "id": "hKaf_lbpdj5q"
      },
      "execution_count": 8,
      "outputs": []
    },
    {
      "cell_type": "code",
      "source": [
        "net = NeuralNet()\n",
        "loss_function = nn.CrossEntropyLoss()\n",
        "optimizer = optim.SGD(net.parameters(), lr=0.001, momentum=0.9)"
      ],
      "metadata": {
        "id": "Bukx_7StgaYZ"
      },
      "execution_count": 9,
      "outputs": []
    },
    {
      "cell_type": "code",
      "source": [
        "for epoch in range(30):\n",
        "  print (f'Training epoch {epoch+1}')\n",
        "\n",
        "  running_loss = 0.0\n",
        "  for i, data in enumerate(train_loader):\n",
        "    inputs, labels = data\n",
        "    optimizer.zero_grad()\n",
        "    outputs = net(inputs)\n",
        "\n",
        "    loss = loss_function(outputs, labels)\n",
        "    loss.backward()\n",
        "    optimizer.step()\n",
        "\n",
        "    running_loss += loss.item()\n",
        "\n",
        "  print(f'loss: {running_loss/len(train_loader):.4f}')"
      ],
      "metadata": {
        "colab": {
          "base_uri": "https://localhost:8080/"
        },
        "id": "9mazrV1rgoXZ",
        "outputId": "77175243-0d60-4b4c-b439-63d6a1cd3328"
      },
      "execution_count": 10,
      "outputs": [
        {
          "output_type": "stream",
          "name": "stdout",
          "text": [
            "Training epoch 1\n",
            "loss: 2.2591\n",
            "Training epoch 2\n",
            "loss: 1.8078\n",
            "Training epoch 3\n",
            "loss: 1.5612\n",
            "Training epoch 4\n",
            "loss: 1.4226\n",
            "Training epoch 5\n",
            "loss: 1.3305\n",
            "Training epoch 6\n",
            "loss: 1.2476\n",
            "Training epoch 7\n",
            "loss: 1.1831\n",
            "Training epoch 8\n",
            "loss: 1.1273\n",
            "Training epoch 9\n",
            "loss: 1.0702\n",
            "Training epoch 10\n",
            "loss: 1.0222\n",
            "Training epoch 11\n",
            "loss: 0.9772\n",
            "Training epoch 12\n",
            "loss: 0.9357\n",
            "Training epoch 13\n",
            "loss: 0.8980\n",
            "Training epoch 14\n",
            "loss: 0.8606\n",
            "Training epoch 15\n",
            "loss: 0.8256\n",
            "Training epoch 16\n",
            "loss: 0.7952\n",
            "Training epoch 17\n",
            "loss: 0.7651\n",
            "Training epoch 18\n",
            "loss: 0.7346\n",
            "Training epoch 19\n",
            "loss: 0.7119\n",
            "Training epoch 20\n",
            "loss: 0.6845\n",
            "Training epoch 21\n",
            "loss: 0.6590\n",
            "Training epoch 22\n",
            "loss: 0.6337\n",
            "Training epoch 23\n",
            "loss: 0.6081\n",
            "Training epoch 24\n",
            "loss: 0.5860\n",
            "Training epoch 25\n",
            "loss: 0.5649\n",
            "Training epoch 26\n",
            "loss: 0.5416\n",
            "Training epoch 27\n",
            "loss: 0.5210\n",
            "Training epoch 28\n",
            "loss: 0.4961\n",
            "Training epoch 29\n",
            "loss: 0.4789\n",
            "Training epoch 30\n",
            "loss: 0.4548\n"
          ]
        }
      ]
    },
    {
      "cell_type": "code",
      "source": [
        "torch.save(net.state_dict(), 'trained_net.pth')"
      ],
      "metadata": {
        "id": "qXNSzbFIhdcc"
      },
      "execution_count": 12,
      "outputs": []
    },
    {
      "cell_type": "code",
      "source": [
        "net = NeuralNet()\n",
        "net.load_state_dict(torch.load('trained_net.pth'))"
      ],
      "metadata": {
        "colab": {
          "base_uri": "https://localhost:8080/"
        },
        "id": "KUvCnupsiWZT",
        "outputId": "8b65067a-51cb-4d1b-fa37-fd27b755d1c7"
      },
      "execution_count": 13,
      "outputs": [
        {
          "output_type": "execute_result",
          "data": {
            "text/plain": [
              "<All keys matched successfully>"
            ]
          },
          "metadata": {},
          "execution_count": 13
        }
      ]
    },
    {
      "cell_type": "code",
      "source": [
        "correct = 0\n",
        "total = 0\n",
        "\n",
        "net.eval()\n",
        "with torch.no_grad():\n",
        "  for data in test_loader:\n",
        "    images, labels = data\n",
        "    outputs = net(images)\n",
        "    _, predicted = torch.max(outputs.data, 1)\n",
        "    total += labels.size(0)\n",
        "    correct += (predicted == labels).sum().item()\n",
        "\n",
        "\n",
        "accuracy  = 100 * correct / total\n",
        "print(f'Accuracy of the network on the 10000 test images: {accuracy} %')"
      ],
      "metadata": {
        "colab": {
          "base_uri": "https://localhost:8080/"
        },
        "id": "pd10Etb7ijcu",
        "outputId": "3691782e-9d93-4cb8-e174-1c7bb8de8e9a"
      },
      "execution_count": 14,
      "outputs": [
        {
          "output_type": "stream",
          "name": "stdout",
          "text": [
            "Accuracy of the network on the 10000 test images: 68.92 %\n"
          ]
        }
      ]
    },
    {
      "cell_type": "code",
      "source": [
        "new_transform = transforms.Compose([\n",
        "    transforms.Resize((32,32)),\n",
        "    transforms.ToTensor(),\n",
        "    transforms.Normalize((0.5,0.5,0.5), (0.5,0.5,0.5))\n",
        "])\n",
        "\n",
        "def lpad_image(image_path):\n",
        "  image = Image.open(image_path)\n",
        "  image = new_transform(image)\n",
        "  image = image.unsqueeze(0)\n",
        "  return image\n",
        "\n",
        "\n"
      ],
      "metadata": {
        "id": "mXSWPkBBjptU"
      },
      "execution_count": null,
      "outputs": []
    },
    {
      "cell_type": "code",
      "source": [],
      "metadata": {
        "id": "riJD6lz4kPGR"
      },
      "execution_count": null,
      "outputs": []
    }
  ]
}